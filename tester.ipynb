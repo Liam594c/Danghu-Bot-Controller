{
 "cells": [
  {
   "cell_type": "code",
   "execution_count": 3,
   "metadata": {},
   "outputs": [
    {
     "name": "stdout",
     "output_type": "stream",
     "text": [
      "10\n"
     ]
    }
   ],
   "source": [
    "try:\n",
    "  print(x)\n",
    "except:\n",
    "  print(\"An exception occurred\")\n",
    "  x = 10"
   ]
  },
  {
   "cell_type": "code",
   "execution_count": 1,
   "metadata": {},
   "outputs": [
    {
     "data": {
      "text/plain": [
       "array([ -1.  ,   1.44,  25.2 ,   1.2 ,  12.48,   0.24, -21.36,   4.08,\n",
       "       -12.48,   1.44,  25.44,   1.2 ,  12.48,   0.24,  -3.36,   0.72,\n",
       "        -2.88,   1.44,  25.2 ,   1.2 ,  12.48,   0.24, -21.36,   4.08,\n",
       "       -12.48])"
      ]
     },
     "metadata": {},
     "output_type": "display_data"
    }
   ],
   "source": [
    "\n",
    "import numpy as np\n",
    " \n",
    "# using loadtxt()\n",
    "arr = np.loadtxt(\"position_space.csv\",\n",
    "                 delimiter=\",\", dtype=float)\n",
    "display(arr)"
   ]
  },
  {
   "cell_type": "code",
   "execution_count": 2,
   "metadata": {},
   "outputs": [],
   "source": [
    "len(arr)\n",
    "arr = np.delete(arr, 0).reshape(-1, 8)"
   ]
  },
  {
   "cell_type": "code",
   "execution_count": 3,
   "metadata": {},
   "outputs": [
    {
     "data": {
      "text/plain": [
       "array([[  1.44,  25.2 ,   1.2 ,  12.48,   0.24, -21.36,   4.08, -12.48],\n",
       "       [  1.44,  25.44,   1.2 ,  12.48,   0.24,  -3.36,   0.72,  -2.88],\n",
       "       [  1.44,  25.2 ,   1.2 ,  12.48,   0.24, -21.36,   4.08, -12.48]])"
      ]
     },
     "execution_count": 3,
     "metadata": {},
     "output_type": "execute_result"
    }
   ],
   "source": [
    "arr"
   ]
  },
  {
   "cell_type": "code",
   "execution_count": 4,
   "metadata": {},
   "outputs": [],
   "source": [
    "from math import sin, cos, pi\n",
    "from pylx16a.lx16a import *\n",
    "import time\n",
    "import numpy as np\n",
    "from scipy import interpolate\n",
    "import try_wave as ctrl\n",
    "def get_BSpline_command(num_of_points, phase_difference):\n",
    "    position_space = np.genfromtxt(\"position_space.csv\", delimiter=\",\") #for reading\n",
    "    position_space = np.delete(position_space, 0).reshape(-1, 8)\n",
    "    left = position_space[:, 4:8]\n",
    "\n",
    "    run_command = np.array([])\n",
    "\n",
    "    for i in range(4):\n",
    "        x = np.linspace(1, 10, len(left[:, i]))\n",
    "        tck = interpolate.splrep(x, left[:, i], s=0, k=2) \n",
    "        x_new = np.linspace(min(x), max(x), num_of_points)\n",
    "        y_fit = interpolate.BSpline(*tck)(x_new)\n",
    "        run_command = np.append(run_command, y_fit)\n",
    "    run_command = run_command.reshape(4, -1) #this is the right leg command\n",
    "    run_command[0] = 0\n",
    "    run_command = np.transpose(run_command)\n",
    "\n",
    "    run_command_left = -1 * np.concatenate((run_command[phase_difference:num_of_points, :],run_command[0:phase_difference, :]), axis = 0) # this is the left leg\n",
    "    run_command = np.concatenate((run_command_left, run_command), axis=1) # run command is a n*6 matrix\n",
    "    return run_command"
   ]
  },
  {
   "cell_type": "code",
   "execution_count": 5,
   "metadata": {},
   "outputs": [],
   "source": [
    "b = get_BSpline_command(5, phase_difference=1)"
   ]
  },
  {
   "cell_type": "code",
   "execution_count": 6,
   "metadata": {},
   "outputs": [
    {
     "data": {
      "text/plain": [
       "array([[ -0.  ,   7.86,  -1.56,   5.28,   0.  , -21.36,   4.08, -12.48],\n",
       "       [ -0.  ,   3.36,  -0.72,   2.88,   0.  ,  -7.86,   1.56,  -5.28],\n",
       "       [ -0.  ,   7.86,  -1.56,   5.28,   0.  ,  -3.36,   0.72,  -2.88],\n",
       "       [ -0.  ,  21.36,  -4.08,  12.48,   0.  ,  -7.86,   1.56,  -5.28],\n",
       "       [ -0.  ,  21.36,  -4.08,  12.48,   0.  , -21.36,   4.08, -12.48]])"
      ]
     },
     "execution_count": 6,
     "metadata": {},
     "output_type": "execute_result"
    }
   ],
   "source": [
    "b"
   ]
  },
  {
   "cell_type": "code",
   "execution_count": 7,
   "metadata": {},
   "outputs": [
    {
     "data": {
      "text/plain": [
       "array([[ -0.  ,   7.86,  -1.56,   5.28,   0.  , -21.36,   4.08, -12.48],\n",
       "       [ -0.  ,   3.36,  -0.72,   2.88,   0.  ,  -7.86,   1.56,  -5.28],\n",
       "       [ -0.  ,   7.86,  -1.56,   5.28,   0.  ,  -3.36,   0.72,  -2.88],\n",
       "       [ -0.  ,  21.36,  -4.08,  12.48,   0.  ,  -7.86,   1.56,  -5.28],\n",
       "       [ -0.  ,  21.36,  -4.08,  12.48,   0.  , -21.36,   4.08, -12.48]])"
      ]
     },
     "execution_count": 7,
     "metadata": {},
     "output_type": "execute_result"
    }
   ],
   "source": [
    "np.delete(b, 0)\n",
    "b"
   ]
  },
  {
   "cell_type": "code",
   "execution_count": 8,
   "metadata": {},
   "outputs": [],
   "source": [
    "try:\n",
    "    servo_start_angle = np.loadtxt(\"position_space.csv\", dtype=float)\n",
    "    servo_start_angle = np.delete(servo_start_angle, 0).reshape(-1, 8)\n",
    "except:\n",
    "    servo_start_angle =  np.asarray([ 93.36,  88.8,  107.04, 112.56, 130.56, 122.4,  127.92,  84.])\n",
    "    print(\"Unable to find the initial position.csv, set the position to default\")"
   ]
  },
  {
   "cell_type": "code",
   "execution_count": 9,
   "metadata": {},
   "outputs": [
    {
     "data": {
      "text/plain": [
       "array([[  1.44,  25.2 ,   1.2 ,  12.48,   0.24, -21.36,   4.08, -12.48],\n",
       "       [  1.44,  25.44,   1.2 ,  12.48,   0.24,  -3.36,   0.72,  -2.88],\n",
       "       [  1.44,  25.2 ,   1.2 ,  12.48,   0.24, -21.36,   4.08, -12.48]])"
      ]
     },
     "execution_count": 9,
     "metadata": {},
     "output_type": "execute_result"
    }
   ],
   "source": [
    "servo_start_angle"
   ]
  },
  {
   "cell_type": "code",
   "execution_count": 33,
   "metadata": {},
   "outputs": [
    {
     "name": "stdout",
     "output_type": "stream",
     "text": [
      "[[  1.44  25.2    1.2   12.48   0.24 -21.36   4.08 -12.48]\n",
      " [  1.44  25.44   1.2   12.48   0.24  -3.36   0.72  -2.88]\n",
      " [  1.44  25.2    1.2   12.48   0.24 -21.36   4.08 -12.48]]\n",
      "[ 1.   5.5 10. ]\n",
      "(array([ 1.,  1.,  1., 10., 10., 10.]), array([1.44, 1.44, 1.44, 0.  , 0.  , 0.  ]), 2)\n",
      "[ 1.  2.  3.  4.  5.  6.  7.  8.  9. 10.]\n",
      "[[  1.44  25.2    1.2   12.48   0.24 -21.36   4.08 -12.48]\n",
      " [  1.44  25.44   1.2   12.48   0.24  -3.36   0.72  -2.88]\n",
      " [  1.44  25.2    1.2   12.48   0.24 -21.36   4.08 -12.48]]\n",
      "[ 1.   5.5 10. ]\n",
      "(array([ 1.,  1.,  1., 10., 10., 10.]), array([25.2 , 25.68, 25.2 ,  0.  ,  0.  ,  0.  ]), 2)\n",
      "[ 1.  2.  3.  4.  5.  6.  7.  8.  9. 10.]\n",
      "[[  1.44  25.2    1.2   12.48   0.24 -21.36   4.08 -12.48]\n",
      " [  1.44  25.44   1.2   12.48   0.24  -3.36   0.72  -2.88]\n",
      " [  1.44  25.2    1.2   12.48   0.24 -21.36   4.08 -12.48]]\n",
      "[ 1.   5.5 10. ]\n",
      "(array([ 1.,  1.,  1., 10., 10., 10.]), array([1.2, 1.2, 1.2, 0. , 0. , 0. ]), 2)\n",
      "[ 1.  2.  3.  4.  5.  6.  7.  8.  9. 10.]\n",
      "[[  1.44  25.2    1.2   12.48   0.24 -21.36   4.08 -12.48]\n",
      " [  1.44  25.44   1.2   12.48   0.24  -3.36   0.72  -2.88]\n",
      " [  1.44  25.2    1.2   12.48   0.24 -21.36   4.08 -12.48]]\n",
      "[ 1.   5.5 10. ]\n",
      "(array([ 1.,  1.,  1., 10., 10., 10.]), array([12.48, 12.48, 12.48,  0.  ,  0.  ,  0.  ]), 2)\n",
      "[ 1.  2.  3.  4.  5.  6.  7.  8.  9. 10.]\n",
      "[[  1.44  25.2    1.2   12.48   0.24 -21.36   4.08 -12.48]\n",
      " [  1.44  25.44   1.2   12.48   0.24  -3.36   0.72  -2.88]\n",
      " [  1.44  25.2    1.2   12.48   0.24 -21.36   4.08 -12.48]]\n",
      "[ 1.   5.5 10. ]\n",
      "(array([ 1.,  1.,  1., 10., 10., 10.]), array([0.24, 0.24, 0.24, 0.  , 0.  , 0.  ]), 2)\n",
      "[ 1.  2.  3.  4.  5.  6.  7.  8.  9. 10.]\n",
      "[[  1.44  25.2    1.2   12.48   0.24 -21.36   4.08 -12.48]\n",
      " [  1.44  25.44   1.2   12.48   0.24  -3.36   0.72  -2.88]\n",
      " [  1.44  25.2    1.2   12.48   0.24 -21.36   4.08 -12.48]]\n",
      "[ 1.   5.5 10. ]\n",
      "(array([ 1.,  1.,  1., 10., 10., 10.]), array([-21.36,  14.64, -21.36,   0.  ,   0.  ,   0.  ]), 2)\n",
      "[ 1.  2.  3.  4.  5.  6.  7.  8.  9. 10.]\n",
      "[[  1.44  25.2    1.2   12.48   0.24 -21.36   4.08 -12.48]\n",
      " [  1.44  25.44   1.2   12.48   0.24  -3.36   0.72  -2.88]\n",
      " [  1.44  25.2    1.2   12.48   0.24 -21.36   4.08 -12.48]]\n",
      "[ 1.   5.5 10. ]\n",
      "(array([ 1.,  1.,  1., 10., 10., 10.]), array([ 4.08, -2.64,  4.08,  0.  ,  0.  ,  0.  ]), 2)\n",
      "[ 1.  2.  3.  4.  5.  6.  7.  8.  9. 10.]\n",
      "[[  1.44  25.2    1.2   12.48   0.24 -21.36   4.08 -12.48]\n",
      " [  1.44  25.44   1.2   12.48   0.24  -3.36   0.72  -2.88]\n",
      " [  1.44  25.2    1.2   12.48   0.24 -21.36   4.08 -12.48]]\n",
      "[ 1.   5.5 10. ]\n",
      "(array([ 1.,  1.,  1., 10., 10., 10.]), array([-12.48,   6.72, -12.48,   0.  ,   0.  ,   0.  ]), 2)\n",
      "[ 1.  2.  3.  4.  5.  6.  7.  8.  9. 10.]\n",
      "[[  1.44  25.2    1.2   12.48   0.24 -21.36   4.08 -12.48]\n",
      " [  1.44  25.44   1.2   12.48   0.24  -3.36   0.72  -2.88]\n",
      " [  1.44  25.2    1.2   12.48   0.24 -21.36   4.08 -12.48]]\n"
     ]
    }
   ],
   "source": [
    "\n",
    "num_of_points = 10\n",
    "phase_difference = 5\n",
    "position_space = np.genfromtxt(\"position_space.csv\", delimiter=\",\") #for reading\n",
    "position_space = np.delete(position_space, 0).reshape(-1, 8)\n",
    "# run_command = position_space\n",
    "print(position_space)\n",
    "# left = position_space[:, 4:8]\n",
    "\n",
    "run_command = np.array([])\n",
    "\n",
    "for i in range(8):\n",
    "    x = np.linspace(1, 10, len(position_space[:, i]))\n",
    "    print(x)\n",
    "    tck = interpolate.splrep(x, position_space[:, i], s=0, k=2) \n",
    "    print(tck)\n",
    "    x_new = np.linspace(min(x), max(x), num_of_points)\n",
    "    print(x_new)\n",
    "    y_fit = interpolate.BSpline(*tck)(x_new)\n",
    "    print(position_space)\n",
    "    run_command = np.append(run_command, y_fit)\n",
    "run_command = run_command.reshape(8, -1) #this is the right leg command\n",
    "# run_command[0] = 0\n",
    "run_command = np.transpose(run_command)\n",
    "\n",
    "# run_command_left = -1 * np.concatenate((run_command[phase_difference:num_of_points, :],run_command[0:phase_difference, :]), axis = 0) # this is the left leg\n",
    "# run_command = np.concatenate((run_command_left, run_command), axis=1) # run command is a n*6 matrix"
   ]
  },
  {
   "cell_type": "code",
   "execution_count": 32,
   "metadata": {},
   "outputs": [
    {
     "data": {
      "text/plain": [
       "array([[  1.44      ,  25.2       ,   1.2       ,  12.48      ,\n",
       "          0.24      , -21.36      ,   4.08      , -12.48      ],\n",
       "       [  1.44      ,  25.29481481,   1.2       ,  12.48      ,\n",
       "          0.24      , -14.24888889,   2.75259259,  -8.68740741],\n",
       "       [  1.44      ,  25.36592593,   1.2       ,  12.48      ,\n",
       "          0.24      ,  -8.91555556,   1.75703704,  -5.84296296],\n",
       "       [  1.44      ,  25.41333333,   1.2       ,  12.48      ,\n",
       "          0.24      ,  -5.36      ,   1.09333333,  -3.94666667],\n",
       "       [  1.44      ,  25.43703704,   1.2       ,  12.48      ,\n",
       "          0.24      ,  -3.58222222,   0.76148148,  -2.99851852],\n",
       "       [  1.44      ,  25.43703704,   1.2       ,  12.48      ,\n",
       "          0.24      ,  -3.58222222,   0.76148148,  -2.99851852],\n",
       "       [  1.44      ,  25.41333333,   1.2       ,  12.48      ,\n",
       "          0.24      ,  -5.36      ,   1.09333333,  -3.94666667],\n",
       "       [  1.44      ,  25.36592593,   1.2       ,  12.48      ,\n",
       "          0.24      ,  -8.91555556,   1.75703704,  -5.84296296],\n",
       "       [  1.44      ,  25.29481481,   1.2       ,  12.48      ,\n",
       "          0.24      , -14.24888889,   2.75259259,  -8.68740741],\n",
       "       [  1.44      ,  25.2       ,   1.2       ,  12.48      ,\n",
       "          0.24      , -21.36      ,   4.08      , -12.48      ]])"
      ]
     },
     "execution_count": 32,
     "metadata": {},
     "output_type": "execute_result"
    }
   ],
   "source": [
    "run_command"
   ]
  },
  {
   "cell_type": "code",
   "execution_count": null,
   "metadata": {},
   "outputs": [],
   "source": []
  }
 ],
 "metadata": {
  "kernelspec": {
   "display_name": "py310",
   "language": "python",
   "name": "python3"
  },
  "language_info": {
   "codemirror_mode": {
    "name": "ipython",
    "version": 3
   },
   "file_extension": ".py",
   "mimetype": "text/x-python",
   "name": "python",
   "nbconvert_exporter": "python",
   "pygments_lexer": "ipython3",
   "version": "3.10.9"
  },
  "orig_nbformat": 4
 },
 "nbformat": 4,
 "nbformat_minor": 2
}
